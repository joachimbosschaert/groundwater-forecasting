{
 "cells": [
  {
   "cell_type": "markdown",
   "id": "bb9b795c",
   "metadata": {},
   "source": [
    "## LSTM testing"
   ]
  },
  {
   "cell_type": "code",
   "execution_count": 1,
   "id": "0fcc562c",
   "metadata": {},
   "outputs": [
    {
     "name": "stderr",
     "output_type": "stream",
     "text": [
      "2025-02-14 10:13:10.175053: I tensorflow/core/util/port.cc:153] oneDNN custom operations are on. You may see slightly different numerical results due to floating-point round-off errors from different computation orders. To turn them off, set the environment variable `TF_ENABLE_ONEDNN_OPTS=0`.\n",
      "2025-02-14 10:13:10.175792: I external/local_xla/xla/tsl/cuda/cudart_stub.cc:32] Could not find cuda drivers on your machine, GPU will not be used.\n",
      "2025-02-14 10:13:10.178061: I external/local_xla/xla/tsl/cuda/cudart_stub.cc:32] Could not find cuda drivers on your machine, GPU will not be used.\n",
      "2025-02-14 10:13:10.184637: E external/local_xla/xla/stream_executor/cuda/cuda_fft.cc:485] Unable to register cuFFT factory: Attempting to register factory for plugin cuFFT when one has already been registered\n",
      "2025-02-14 10:13:10.194934: E external/local_xla/xla/stream_executor/cuda/cuda_dnn.cc:8454] Unable to register cuDNN factory: Attempting to register factory for plugin cuDNN when one has already been registered\n",
      "2025-02-14 10:13:10.197933: E external/local_xla/xla/stream_executor/cuda/cuda_blas.cc:1452] Unable to register cuBLAS factory: Attempting to register factory for plugin cuBLAS when one has already been registered\n",
      "2025-02-14 10:13:10.206436: I tensorflow/core/platform/cpu_feature_guard.cc:210] This TensorFlow binary is optimized to use available CPU instructions in performance-critical operations.\n",
      "To enable the following instructions: AVX2 AVX512F AVX512_VNNI FMA, in other operations, rebuild TensorFlow with the appropriate compiler flags.\n",
      "2025-02-14 10:13:10.703314: W tensorflow/compiler/tf2tensorrt/utils/py_utils.cc:38] TF-TRT Warning: Could not find TensorRT\n"
     ]
    }
   ],
   "source": [
    "import numpy as np\n",
    "import matplotlib.pyplot as plt\n",
    "import pandas as pd\n",
    "import tensorflow as tf\n",
    "from tensorflow.keras.models import Sequential\n",
    "from tensorflow.keras.layers import Dense\n",
    "from tensorflow.keras.layers import LSTM\n",
    "from sklearn.preprocessing import MinMaxScaler\n",
    "from sklearn.metrics import mean_squared_error"
   ]
  },
  {
   "cell_type": "code",
   "execution_count": 2,
   "id": "ffd709b1",
   "metadata": {},
   "outputs": [
    {
     "data": {
      "image/png": "[encoded data removed]",
      "text/plain": [
       "<Figure size 432x288 with 1 Axes>"
      ]
     },
     "metadata": {
      "needs_background": "light"
     },
     "output_type": "display_data"
    }
   ],
   "source": [
    "import pandas\n",
    "import matplotlib.pyplot as plt\n",
    "dataset = pandas.read_csv('../Processed_data/testing.csv', usecols=[1], engine='python')\n",
    "plt.plot(dataset)\n",
    "plt.show()"
   ]
  },
  {
   "cell_type": "code",
   "execution_count": 3,
   "id": "02e80a03",
   "metadata": {},
   "outputs": [],
   "source": [
    "tf.random.set_seed(7)"
   ]
  },
  {
   "cell_type": "code",
   "execution_count": 4,
   "id": "1a58a055",
   "metadata": {},
   "outputs": [],
   "source": [
    "# load the dataset\n",
    "dataframe = pd.read_csv('../Processed_data/testing.csv', usecols=[1], engine='python')\n",
    "dataset = dataframe.values\n",
    "dataset = dataset.astype('float32')"
   ]
  },
  {
   "cell_type": "code",
   "execution_count": 5,
   "id": "c598b172",
   "metadata": {},
   "outputs": [],
   "source": [
    "# normalize the dataset\n",
    "scaler = MinMaxScaler(feature_range=(0, 1))\n",
    "dataset = scaler.fit_transform(dataset)"
   ]
  },
  {
   "cell_type": "code",
   "execution_count": 6,
   "id": "7a0ae6d5",
   "metadata": {},
   "outputs": [
    {
     "name": "stdout",
     "output_type": "stream",
     "text": [
      "96 56\n"
     ]
    }
   ],
   "source": [
    "# split into train and test sets\n",
    "look_back = 8\n",
    "\n",
    "train_size = int(len(dataset) * 0.67)\n",
    "test_size = len(dataset) - train_size\n",
    "train, test = dataset[0:train_size,:], dataset[train_size - look_back:len(dataset),:]\n",
    "print(len(train), len(test))"
   ]
  },
  {
   "cell_type": "code",
   "execution_count": 7,
   "id": "09c6cdcd",
   "metadata": {},
   "outputs": [],
   "source": [
    "# convert an array of values into a dataset matrix\n",
    "def create_dataset(dataset, look_back=1):\n",
    "    dataX, dataY = [], []\n",
    "    for i in range(len(dataset)-look_back-1):\n",
    "        a = dataset[i:(i+look_back), 0]\n",
    "        dataX.append(a)\n",
    "        dataY.append(dataset[i + look_back, 0])\n",
    "    return np.array(dataX), np.array(dataY)"
   ]
  },
  {
   "cell_type": "code",
   "execution_count": 8,
   "id": "93409fe8",
   "metadata": {},
   "outputs": [],
   "source": [
    "# reshape into X=t and Y=t+1\n",
    "\n",
    "trainX, trainY = create_dataset(train, look_back)\n",
    "testX, testY = create_dataset(test, look_back)"
   ]
  },
  {
   "cell_type": "code",
   "execution_count": 9,
   "id": "fe2359e9",
   "metadata": {},
   "outputs": [
    {
     "data": {
      "text/plain": [
       "array([[0.01544401, 0.02702703, 0.05405405, 0.04826255, 0.03281853,\n",
       "        0.05984557, 0.08494207, 0.08494207],\n",
       "       [0.02702703, 0.05405405, 0.04826255, 0.03281853, 0.05984557,\n",
       "        0.08494207, 0.08494207, 0.06177607],\n",
       "       [0.05405405, 0.04826255, 0.03281853, 0.05984557, 0.08494207,\n",
       "        0.08494207, 0.06177607, 0.02895753],\n",
       "       [0.04826255, 0.03281853, 0.05984557, 0.08494207, 0.08494207,\n",
       "        0.06177607, 0.02895753, 0.        ],\n",
       "       [0.03281853, 0.05984557, 0.08494207, 0.08494207, 0.06177607,\n",
       "        0.02895753, 0.        , 0.02702703]], dtype=float32)"
      ]
     },
     "execution_count": 9,
     "metadata": {},
     "output_type": "execute_result"
    }
   ],
   "source": [
    "trainX[:5]"
   ]
  },
  {
   "cell_type": "code",
   "execution_count": 10,
   "id": "9e5a0d85",
   "metadata": {},
   "outputs": [
    {
     "data": {
      "text/plain": [
       "(87,)"
      ]
     },
     "execution_count": 10,
     "metadata": {},
     "output_type": "execute_result"
    }
   ],
   "source": [
    "trainY.shape"
   ]
  },
  {
   "cell_type": "code",
   "execution_count": 11,
   "id": "63509b31",
   "metadata": {},
   "outputs": [],
   "source": [
    "trainX = np.reshape(trainX, (trainX.shape[0], 1, trainX.shape[1]))\n",
    "testX = np.reshape(testX, (testX.shape[0], 1, testX.shape[1]))"
   ]
  },
  {
   "cell_type": "code",
   "execution_count": 12,
   "id": "adb30662",
   "metadata": {},
   "outputs": [
    {
     "data": {
      "text/plain": [
       "((87, 1, 8), (87,))"
      ]
     },
     "execution_count": 12,
     "metadata": {},
     "output_type": "execute_result"
    }
   ],
   "source": [
    "trainX.shape, trainY.shape"
   ]
  },
  {
   "cell_type": "code",
   "execution_count": 13,
   "id": "f950edc7",
   "metadata": {},
   "outputs": [
    {
     "name": "stdout",
     "output_type": "stream",
     "text": [
      "Epoch 1/100\n"
     ]
    },
    {
     "name": "stderr",
     "output_type": "stream",
     "text": [
      "2025-02-14 10:13:24.582040: E external/local_xla/xla/stream_executor/cuda/cuda_driver.cc:266] failed call to cuInit: CUDA_ERROR_UNKNOWN: unknown error\n",
      "2025-02-14 10:13:24.582076: I external/local_xla/xla/stream_executor/cuda/cuda_diagnostics.cc:135] retrieving CUDA diagnostic information for host: Hotdog-Ubuntu\n",
      "2025-02-14 10:13:24.582082: I external/local_xla/xla/stream_executor/cuda/cuda_diagnostics.cc:142] hostname: Hotdog-Ubuntu\n",
      "2025-02-14 10:13:24.582265: I external/local_xla/xla/stream_executor/cuda/cuda_diagnostics.cc:166] libcuda reported version is: 470.256.2\n",
      "2025-02-14 10:13:24.582285: I external/local_xla/xla/stream_executor/cuda/cuda_diagnostics.cc:170] kernel reported version is: 470.256.2\n",
      "2025-02-14 10:13:24.582290: I external/local_xla/xla/stream_executor/cuda/cuda_diagnostics.cc:249] kernel version seems to match DSO: 470.256.2\n",
      "/home/jo/anaconda3/lib/python3.9/site-packages/keras/src/layers/rnn/rnn.py:204: UserWarning: Do not pass an `input_shape`/`input_dim` argument to a layer. When using Sequential models, prefer using an `Input(shape)` object as the first layer in the model instead.\n",
      "  super().__init__(**kwargs)\n"
     ]
    },
    {
     "name": "stdout",
     "output_type": "stream",
     "text": [
      "87/87 - 3s - 31ms/step - loss: 0.0281\n",
      "Epoch 2/100\n",
      "87/87 - 0s - 1ms/step - loss: 0.0160\n",
      "Epoch 3/100\n",
      "87/87 - 0s - 983us/step - loss: 0.0096\n",
      "Epoch 4/100\n",
      "87/87 - 0s - 1ms/step - loss: 0.0063\n",
      "Epoch 5/100\n",
      "87/87 - 0s - 977us/step - loss: 0.0058\n",
      "Epoch 6/100\n",
      "87/87 - 0s - 992us/step - loss: 0.0056\n",
      "Epoch 7/100\n",
      "87/87 - 0s - 963us/step - loss: 0.0054\n",
      "Epoch 8/100\n",
      "87/87 - 0s - 954us/step - loss: 0.0052\n",
      "Epoch 9/100\n",
      "87/87 - 0s - 997us/step - loss: 0.0050\n",
      "Epoch 10/100\n",
      "87/87 - 0s - 1ms/step - loss: 0.0049\n",
      "Epoch 11/100\n",
      "87/87 - 0s - 1ms/step - loss: 0.0048\n",
      "Epoch 12/100\n",
      "87/87 - 0s - 1ms/step - loss: 0.0046\n",
      "Epoch 13/100\n",
      "87/87 - 0s - 995us/step - loss: 0.0045\n",
      "Epoch 14/100\n",
      "87/87 - 0s - 1ms/step - loss: 0.0044\n",
      "Epoch 15/100\n",
      "87/87 - 0s - 996us/step - loss: 0.0043\n",
      "Epoch 16/100\n",
      "87/87 - 0s - 1ms/step - loss: 0.0042\n",
      "Epoch 17/100\n",
      "87/87 - 0s - 1ms/step - loss: 0.0041\n",
      "Epoch 18/100\n",
      "87/87 - 0s - 1ms/step - loss: 0.0040\n",
      "Epoch 19/100\n",
      "87/87 - 0s - 1ms/step - loss: 0.0039\n",
      "Epoch 20/100\n",
      "87/87 - 0s - 1ms/step - loss: 0.0038\n",
      "Epoch 21/100\n",
      "87/87 - 0s - 953us/step - loss: 0.0037\n",
      "Epoch 22/100\n",
      "87/87 - 0s - 1ms/step - loss: 0.0036\n",
      "Epoch 23/100\n",
      "87/87 - 0s - 994us/step - loss: 0.0035\n",
      "Epoch 24/100\n",
      "87/87 - 0s - 1ms/step - loss: 0.0034\n",
      "Epoch 25/100\n",
      "87/87 - 0s - 1ms/step - loss: 0.0033\n",
      "Epoch 26/100\n",
      "87/87 - 0s - 1ms/step - loss: 0.0032\n",
      "Epoch 27/100\n",
      "87/87 - 0s - 1ms/step - loss: 0.0032\n",
      "Epoch 28/100\n",
      "87/87 - 0s - 1ms/step - loss: 0.0031\n",
      "Epoch 29/100\n",
      "87/87 - 0s - 1ms/step - loss: 0.0031\n",
      "Epoch 30/100\n",
      "87/87 - 0s - 1ms/step - loss: 0.0030\n",
      "Epoch 31/100\n",
      "87/87 - 0s - 1ms/step - loss: 0.0030\n",
      "Epoch 32/100\n",
      "87/87 - 0s - 989us/step - loss: 0.0029\n",
      "Epoch 33/100\n",
      "87/87 - 0s - 966us/step - loss: 0.0029\n",
      "Epoch 34/100\n",
      "87/87 - 0s - 991us/step - loss: 0.0029\n",
      "Epoch 35/100\n",
      "87/87 - 0s - 976us/step - loss: 0.0029\n",
      "Epoch 36/100\n",
      "87/87 - 0s - 1ms/step - loss: 0.0028\n",
      "Epoch 37/100\n",
      "87/87 - 0s - 979us/step - loss: 0.0028\n",
      "Epoch 38/100\n",
      "87/87 - 0s - 1ms/step - loss: 0.0028\n",
      "Epoch 39/100\n",
      "87/87 - 0s - 988us/step - loss: 0.0028\n",
      "Epoch 40/100\n",
      "87/87 - 0s - 1ms/step - loss: 0.0027\n",
      "Epoch 41/100\n",
      "87/87 - 0s - 2ms/step - loss: 0.0027\n",
      "Epoch 42/100\n",
      "87/87 - 0s - 2ms/step - loss: 0.0027\n",
      "Epoch 43/100\n",
      "87/87 - 0s - 2ms/step - loss: 0.0027\n",
      "Epoch 44/100\n",
      "87/87 - 0s - 2ms/step - loss: 0.0027\n",
      "Epoch 45/100\n",
      "87/87 - 0s - 2ms/step - loss: 0.0027\n",
      "Epoch 46/100\n",
      "87/87 - 0s - 2ms/step - loss: 0.0027\n",
      "Epoch 47/100\n",
      "87/87 - 0s - 2ms/step - loss: 0.0026\n",
      "Epoch 48/100\n",
      "87/87 - 0s - 2ms/step - loss: 0.0026\n",
      "Epoch 49/100\n",
      "87/87 - 0s - 2ms/step - loss: 0.0026\n",
      "Epoch 50/100\n",
      "87/87 - 0s - 2ms/step - loss: 0.0026\n",
      "Epoch 51/100\n",
      "87/87 - 0s - 2ms/step - loss: 0.0026\n",
      "Epoch 52/100\n",
      "87/87 - 0s - 2ms/step - loss: 0.0026\n",
      "Epoch 53/100\n",
      "87/87 - 0s - 2ms/step - loss: 0.0026\n",
      "Epoch 54/100\n",
      "87/87 - 0s - 2ms/step - loss: 0.0026\n",
      "Epoch 55/100\n",
      "87/87 - 0s - 2ms/step - loss: 0.0025\n",
      "Epoch 56/100\n",
      "87/87 - 0s - 2ms/step - loss: 0.0025\n",
      "Epoch 57/100\n",
      "87/87 - 0s - 2ms/step - loss: 0.0025\n",
      "Epoch 58/100\n",
      "87/87 - 0s - 2ms/step - loss: 0.0025\n",
      "Epoch 59/100\n",
      "87/87 - 0s - 2ms/step - loss: 0.0025\n",
      "Epoch 60/100\n",
      "87/87 - 0s - 2ms/step - loss: 0.0025\n",
      "Epoch 61/100\n",
      "87/87 - 0s - 2ms/step - loss: 0.0025\n",
      "Epoch 62/100\n",
      "87/87 - 0s - 2ms/step - loss: 0.0025\n",
      "Epoch 63/100\n",
      "87/87 - 0s - 2ms/step - loss: 0.0025\n",
      "Epoch 64/100\n",
      "87/87 - 0s - 2ms/step - loss: 0.0025\n",
      "Epoch 65/100\n",
      "87/87 - 0s - 2ms/step - loss: 0.0024\n",
      "Epoch 66/100\n",
      "87/87 - 0s - 2ms/step - loss: 0.0024\n",
      "Epoch 67/100\n",
      "87/87 - 0s - 2ms/step - loss: 0.0024\n",
      "Epoch 68/100\n",
      "87/87 - 0s - 2ms/step - loss: 0.0024\n",
      "Epoch 69/100\n",
      "87/87 - 0s - 2ms/step - loss: 0.0024\n",
      "Epoch 70/100\n",
      "87/87 - 0s - 2ms/step - loss: 0.0024\n",
      "Epoch 71/100\n",
      "87/87 - 0s - 2ms/step - loss: 0.0024\n",
      "Epoch 72/100\n",
      "87/87 - 0s - 2ms/step - loss: 0.0024\n",
      "Epoch 73/100\n",
      "87/87 - 0s - 2ms/step - loss: 0.0024\n",
      "Epoch 74/100\n",
      "87/87 - 0s - 2ms/step - loss: 0.0024\n",
      "Epoch 75/100\n",
      "87/87 - 0s - 2ms/step - loss: 0.0024\n",
      "Epoch 76/100\n",
      "87/87 - 0s - 2ms/step - loss: 0.0024\n",
      "Epoch 77/100\n",
      "87/87 - 0s - 2ms/step - loss: 0.0024\n",
      "Epoch 78/100\n",
      "87/87 - 0s - 2ms/step - loss: 0.0023\n",
      "Epoch 79/100\n",
      "87/87 - 0s - 2ms/step - loss: 0.0023\n",
      "Epoch 80/100\n",
      "87/87 - 0s - 2ms/step - loss: 0.0023\n",
      "Epoch 81/100\n",
      "87/87 - 0s - 2ms/step - loss: 0.0023\n",
      "Epoch 82/100\n",
      "87/87 - 0s - 2ms/step - loss: 0.0023\n",
      "Epoch 83/100\n",
      "87/87 - 0s - 2ms/step - loss: 0.0023\n",
      "Epoch 84/100\n",
      "87/87 - 0s - 2ms/step - loss: 0.0023\n",
      "Epoch 85/100\n",
      "87/87 - 0s - 2ms/step - loss: 0.0023\n",
      "Epoch 86/100\n",
      "87/87 - 0s - 2ms/step - loss: 0.0023\n",
      "Epoch 87/100\n",
      "87/87 - 0s - 2ms/step - loss: 0.0023\n",
      "Epoch 88/100\n",
      "87/87 - 0s - 2ms/step - loss: 0.0023\n",
      "Epoch 89/100\n",
      "87/87 - 0s - 2ms/step - loss: 0.0023\n",
      "Epoch 90/100\n",
      "87/87 - 0s - 2ms/step - loss: 0.0023\n",
      "Epoch 91/100\n",
      "87/87 - 0s - 2ms/step - loss: 0.0023\n",
      "Epoch 92/100\n",
      "87/87 - 0s - 2ms/step - loss: 0.0023\n",
      "Epoch 93/100\n",
      "87/87 - 0s - 2ms/step - loss: 0.0023\n",
      "Epoch 94/100\n",
      "87/87 - 0s - 2ms/step - loss: 0.0023\n",
      "Epoch 95/100\n",
      "87/87 - 0s - 2ms/step - loss: 0.0022\n",
      "Epoch 96/100\n",
      "87/87 - 0s - 2ms/step - loss: 0.0022\n",
      "Epoch 97/100\n",
      "87/87 - 0s - 2ms/step - loss: 0.0022\n",
      "Epoch 98/100\n",
      "87/87 - 0s - 2ms/step - loss: 0.0022\n",
      "Epoch 99/100\n",
      "87/87 - 0s - 2ms/step - loss: 0.0022\n",
      "Epoch 100/100\n",
      "87/87 - 0s - 2ms/step - loss: 0.0022\n"
     ]
    },
    {
     "data": {
      "text/plain": [
       "<keras.src.callbacks.history.History at 0x7f9ae076de80>"
      ]
     },
     "execution_count": 13,
     "metadata": {},
     "output_type": "execute_result"
    }
   ],
   "source": [
    "model = Sequential()\n",
    "model.add(LSTM(16, input_shape=(1, look_back), return_sequences=True))\n",
    "model.add(LSTM(16, return_sequences=True))\n",
    "model.add(LSTM(16, ))\n",
    "\n",
    "\n",
    "model.add(Dense(16))\n",
    "model.add(Dense(1))\n",
    "model.compile(loss='mean_squared_error', optimizer='adam')\n",
    "\n",
    "model.fit(trainX, trainY, epochs=100, batch_size=1, verbose=2, shuffle=True)"
   ]
  },
  {
   "cell_type": "code",
   "execution_count": 14,
   "id": "d2e08e3e",
   "metadata": {},
   "outputs": [
    {
     "name": "stdout",
     "output_type": "stream",
     "text": [
      "\u001b[1m3/3\u001b[0m \u001b[32m━━━━━━━━━━━━━━━━━━━━\u001b[0m\u001b[37m\u001b[0m \u001b[1m1s\u001b[0m 190ms/step\n",
      "\u001b[1m2/2\u001b[0m \u001b[32m━━━━━━━━━━━━━━━━━━━━\u001b[0m\u001b[37m\u001b[0m \u001b[1m0s\u001b[0m 2ms/step \n",
      "Train Score: 21.78 RMSE\n"
     ]
    }
   ],
   "source": [
    "# make predictions\n",
    "trainPredict = model.predict(trainX)\n",
    "testPredict = model.predict(testX)\n",
    "#invert predictions\n",
    "trainPredict = scaler.inverse_transform(trainPredict)\n",
    "trainY = scaler.inverse_transform([trainY])\n",
    "testPredict = scaler.inverse_transform(testPredict)\n",
    "testY = scaler.inverse_transform([testY])\n",
    "# calculate root mean squared error\n",
    "trainScore = np.sqrt(mean_squared_error(trainY[0], trainPredict[:,0]))\n",
    "print('Train Score: %.2f RMSE' % (trainScore))\n",
    "testScore = np.sqrt(mean_squared_error(testY[0], testPredict[:,0]))"
   ]
  },
  {
   "cell_type": "code",
   "execution_count": 15,
   "id": "f2cdf6a5",
   "metadata": {},
   "outputs": [
    {
     "data": {
      "text/plain": [
       "array([[136.00000531, 119.00000078, 103.99999952, 117.99999916,\n",
       "        115.00000199, 125.99999674, 140.99999801, 135.00000368,\n",
       "        125.00000283, 148.9999956 , 169.99999891, 169.99999891,\n",
       "        157.99999481, 133.00000042, 114.00000036, 139.99999638,\n",
       "        145.00000452, 149.99999723, 177.9999965 , 163.00000295,\n",
       "        172.00000217, 177.9999965 , 198.99999982, 198.99999982,\n",
       "        184.00000627, 162.00000133, 146.00000615, 165.9999924 ,\n",
       "        171.00000054, 179.99999976, 193.00000549, 181.00000139,\n",
       "        183.00000464, 217.99999988, 230.00000398, 241.99999264,\n",
       "        209.00000066, 191.00000223, 172.00000217, 194.00000712,\n",
       "        195.99999493, 195.99999493, 235.99999831, 234.99999668,\n",
       "        229.00000235, 242.99999427, 263.99999759, 272.00001061,\n",
       "        236.99999994, 211.00000392, 179.99999976, 201.00000308,\n",
       "        203.99999252, 187.99999735, 234.99999668, 226.9999991 ,\n",
       "        233.99999506, 263.99999759, 301.99999771, 292.99999849,\n",
       "        259.00000488, 229.00000235, 203.00000633, 229.00000235,\n",
       "        241.99999264, 232.99999343, 266.99998703, 268.99999029,\n",
       "        270.00000736, 315.00000344, 363.99999059, 346.99999379,\n",
       "        312.00001399, 274.00001387, 236.99999994, 277.99998951,\n",
       "        283.99999928, 277.00000332, 317.00000669, 313.00000018,\n",
       "        317.99999288, 373.999976  , 412.99999319, 404.99998016,\n",
       "        355.00000681, 306.00000422, 270.99999355]])"
      ]
     },
     "execution_count": 15,
     "metadata": {},
     "output_type": "execute_result"
    }
   ],
   "source": [
    "trainY"
   ]
  },
  {
   "cell_type": "code",
   "execution_count": 16,
   "id": "8e17c6ec",
   "metadata": {},
   "outputs": [
    {
     "data": {
      "image/png": "[encoded data removed]",
      "text/plain": [
       "<Figure size 432x288 with 1 Axes>"
      ]
     },
     "metadata": {
      "needs_background": "light"
     },
     "output_type": "display_data"
    }
   ],
   "source": [
    "# shift train predictions for plotting\n",
    "trainPredictPlot = np.empty_like(dataset)\n",
    "trainPredictPlot[:, :] = np.nan\n",
    "trainPredictPlot[look_back:len(trainPredict)+look_back, :] = trainPredict\n",
    "# shift test predictions for plotting\n",
    "testPredictPlot = np.empty_like(dataset)\n",
    "testPredictPlot[:, :] = np.nan\n",
    "testPredictPlot[len(trainPredict)+(look_back)+1:len(dataset)-1, :] = testPredict\n",
    "# plot baseline and predictions\n",
    "plt.plot(scaler.inverse_transform(dataset))\n",
    "plt.plot(trainPredictPlot)\n",
    "plt.plot(testPredictPlot)\n",
    "plt.show()"
   ]
  }
 ],
 "metadata": {
  "kernelspec": {
   "display_name": "Python 3 (ipykernel)",
   "language": "python",
   "name": "python3"
  },
  "language_info": {
   "codemirror_mode": {
    "name": "ipython",
    "version": 3
   },
   "file_extension": ".py",
   "mimetype": "text/x-python",
   "name": "python",
   "nbconvert_exporter": "python",
   "pygments_lexer": "ipython3",
   "version": "3.9.7"
  }
 },
 "nbformat": 4,
 "nbformat_minor": 5
}
